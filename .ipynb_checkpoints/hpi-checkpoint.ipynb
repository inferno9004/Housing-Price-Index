{
 "cells": [
  {
   "cell_type": "code",
   "execution_count": 1,
   "metadata": {
    "collapsed": true
   },
   "outputs": [],
   "source": [
    "#modules\n",
    "import pandas as pd\n",
    "import numpy as np\n",
    "import Quandl as q\n",
    "import pickle\n",
    "import datetime\n",
    "import matplotlib.pyplot as plt\n",
    "\n",
    "# defining style\n",
    "from matplotlib import style\n",
    "style.use(\"fivethirtyeight\")\n",
    "\n",
    "#Quandl API key\n",
    "api_key = \"ZeTUAsZV7Vz4HFa7jsFk\""
   ]
  },
  {
   "cell_type": "code",
   "execution_count": 2,
   "metadata": {
    "collapsed": false
   },
   "outputs": [],
   "source": [
    "#extracting the state abbreviations from wiki\n",
    "def state_list():\n",
    "    all_state = pd.read_html(\"https://simple.wikipedia.org/wiki/List_of_U.S._states\")\n",
    "    #print(all_state[0][0][1:])\n",
    "    return all_state[0][0][1:]\n",
    "\n",
    "#state_list()"
   ]
  },
  {
   "cell_type": "code",
   "execution_count": 19,
   "metadata": {
    "collapsed": false
   },
   "outputs": [],
   "source": [
    "#function to get data from Quandl using the API\n",
    "def get_quandl_data():\n",
    "    all_states = state_list() #storing the states\n",
    "    main_df = pd.DataFrame() #defining empty dataframe\n",
    "    \n",
    "    for each_state in all_states:\n",
    "        query = \"FMAC/HPI_\"+str(each_state)\n",
    "        df = q.get(query, authtoken = api_key)\n",
    "        df[each_state] = (df[each_state]-df[each_state][0])/df[each_state][0] * 100.0\n",
    "        \n",
    "        if main_df.empty:\n",
    "            main_df = df\n",
    "        else:\n",
    "            main_df = main_df.join(df)\n",
    "            \n",
    "    #print(main_df[[0]])\n",
    "    main_df.to_pickle(\"state_data.pickle\")\n",
    "    \n",
    "get_quandl_data()\n",
    "\n"
   ]
  },
  {
   "cell_type": "code",
   "execution_count": 20,
   "metadata": {
    "collapsed": false
   },
   "outputs": [],
   "source": [
    "#print(state_data_df[\"AL\"][0])\n",
    "#print(state_data_df.AL[0])\n",
    "#x =(state_data_df[\"AL\"]-state_data_df[\"AL\"][0]) / state_data_df[\"AL\"][0] * 100.0\n",
    "#print(x)\n",
    "\n",
    "#reading the data from pickle\n",
    "state_data_df = pd.read_pickle(\"state_data.pickle\")"
   ]
  },
  {
   "cell_type": "code",
   "execution_count": 21,
   "metadata": {
    "collapsed": true
   },
   "outputs": [],
   "source": [
    "#function to get house price index data for entire USA as a benchmark\n",
    "def Index_USA():\n",
    "    df = q.get(\"FMAC/HPI_USA\", authtoken=api_key)\n",
    "    df[\"United States                  not seasonally adjusted\"] = (df[\"United States                  not seasonally adjusted\"]-df[\"United States                  not seasonally adjusted\"][0]) / df[\"United States                  not seasonally adjusted\"][0] * 100.0\n",
    "    return df"
   ]
  },
  {
   "cell_type": "code",
   "execution_count": 54,
   "metadata": {
    "collapsed": false
   },
   "outputs": [],
   "source": [
    "#collecting the benchmark data\n",
    "benchmark = Index_USA()\n",
    "\n",
    "\n",
    "#Plotting of housing price index for all the states VS housing price index for entire USA (benchmark)\n",
    "fig = plt.figure()\n",
    "ax1 = plt.subplot2grid((1,1), (0,0))\n",
    "\n",
    "    \n",
    "state_data_df.plot(ax = ax1)\n",
    "benchmark.plot(ax = ax1, color = \"k\", linewidth = 10)\n",
    "plt.xlabel(\"Year\")\n",
    "plt.ylabel(\"Housing Price Index\")\n",
    "plt.title(\"Housing Price Index\\nAll states(colors) Vs Entire USA(in black)\")\n",
    "plt.legend().remove()\n",
    "plt.show()"
   ]
  },
  {
   "cell_type": "markdown",
   "metadata": {},
   "source": [
    "* We can see that the housing price Index for all the individual states(shown in colors) follows a similar pattern to the housing price index of the entire United States(shown in black)."
   ]
  },
  {
   "cell_type": "code",
   "execution_count": 40,
   "metadata": {
    "collapsed": false
   },
   "outputs": [],
   "source": [
    "#function for collecting mortgage data from quandl\n",
    "\n",
    "def mortgage_data():\n",
    "    df = q.get(\"FMAC/MORTG\", trim_start=\"1975-01-01\", authtoken=api_key)\n",
    "    df[\"Value\"] = (df[\"Value\"]-df[\"Value\"][0]) / df[\"Value\"][0] * 100.0\n",
    "    df=df.resample('1D')\n",
    "    df=df.resample('M')\n",
    "    return df"
   ]
  },
  {
   "cell_type": "code",
   "execution_count": 47,
   "metadata": {
    "collapsed": false
   },
   "outputs": [],
   "source": [
    "#getting mortgage data\n",
    "mortgage = mortgage_data()\n",
    "\n",
    "#renaming column\n",
    "mortgage.columns = [\"Mortgage Rate\"]\n",
    "benchmark.columns = [\"USA_Index\"]"
   ]
  },
  {
   "cell_type": "code",
   "execution_count": 49,
   "metadata": {
    "collapsed": false
   },
   "outputs": [],
   "source": [
    "#joining benchmark & mortgage into a single column\n",
    "\n",
    "bench_mort = benchmark.join(mortgage)\n",
    "#print(bench_mort)"
   ]
  },
  {
   "cell_type": "code",
   "execution_count": 50,
   "metadata": {
    "collapsed": false
   },
   "outputs": [
    {
     "name": "stdout",
     "output_type": "stream",
     "text": [
      "               USA_Index  Mortgage Rate\n",
      "USA_Index       1.000000      -0.766493\n",
      "Mortgage Rate  -0.766493       1.000000\n"
     ]
    }
   ],
   "source": [
    "#calculating correlation between USA Index & Mortgage rate change\n",
    "print(bench_mort.corr())"
   ]
  },
  {
   "cell_type": "markdown",
   "metadata": {},
   "source": [
    "* There is a negative correlation of around 77% between the rate of change of housing price index of the entire united states and rate of change of the mortgage value over a period of 40 years. \n",
    "\n",
    "* This implies that the changes between these 2 quantities has basically diverged over the years."
   ]
  },
  {
   "cell_type": "code",
   "execution_count": 55,
   "metadata": {
    "collapsed": true
   },
   "outputs": [],
   "source": [
    "bench_mort.plot()\n",
    "plt.xlabel(\"Year\")\n",
    "plt.ylabel(\"Change in Rate\")\n",
    "plt.title(\"Housing Price Index Vs Mortgage Rate\")\n",
    "plt.show()"
   ]
  },
  {
   "cell_type": "markdown",
   "metadata": {},
   "source": [
    "* We can see that the housing price index & mortgage rates start following a similar pattern for the initial few years , but as the time progresses, the patters start to diverge."
   ]
  },
  {
   "cell_type": "code",
   "execution_count": 64,
   "metadata": {
    "collapsed": false
   },
   "outputs": [
    {
     "name": "stdout",
     "output_type": "stream",
     "text": [
      "AL              -0.786039\n",
      "AK              -0.718194\n",
      "AZ              -0.654546\n",
      "AR              -0.776184\n",
      "CA              -0.717576\n",
      "CO              -0.776866\n",
      "CT              -0.743841\n",
      "DE              -0.780571\n",
      "FL              -0.663210\n",
      "GA              -0.737242\n",
      "HI              -0.783679\n",
      "ID              -0.753248\n",
      "IL              -0.770356\n",
      "IN              -0.795171\n",
      "IA              -0.809330\n",
      "KS              -0.776788\n",
      "KY              -0.808619\n",
      "LA              -0.721165\n",
      "ME              -0.792335\n",
      "MD              -0.756992\n",
      "MA              -0.784161\n",
      "MI              -0.708697\n",
      "MN              -0.752175\n",
      "MS              -0.778339\n",
      "MO              -0.772849\n",
      "MT              -0.786099\n",
      "NE              -0.788938\n",
      "NV              -0.574745\n",
      "NH              -0.748789\n",
      "NJ              -0.765554\n",
      "NM              -0.755110\n",
      "NY              -0.794366\n",
      "NC              -0.794287\n",
      "ND              -0.778897\n",
      "OH              -0.770942\n",
      "OK              -0.669922\n",
      "OR              -0.779097\n",
      "PA              -0.803065\n",
      "RI              -0.752708\n",
      "SC              -0.779807\n",
      "SD              -0.818296\n",
      "TN              -0.797098\n",
      "TX              -0.710898\n",
      "UT              -0.769322\n",
      "VT              -0.802848\n",
      "VA              -0.774406\n",
      "WA              -0.779303\n",
      "WV              -0.796482\n",
      "WI              -0.796705\n",
      "WY              -0.738428\n",
      "Mortgage Rate    1.000000\n",
      "Name: Mortgage Rate, dtype: float64\n"
     ]
    }
   ],
   "source": [
    "#joining state data\n",
    "statewise_mort = state_data_df.join(mortgage)\n",
    "print(statewise_mort.corr()[\"Mortgage Rate\"])"
   ]
  },
  {
   "cell_type": "markdown",
   "metadata": {},
   "source": [
    "* We Can see that Nevada has the best correlation beteen housing price index & mortgage rate whereas South Dakota has the worst."
   ]
  }
 ],
 "metadata": {
  "kernelspec": {
   "display_name": "Python 3",
   "language": "python",
   "name": "python3"
  },
  "language_info": {
   "codemirror_mode": {
    "name": "ipython",
    "version": 3
   },
   "file_extension": ".py",
   "mimetype": "text/x-python",
   "name": "python",
   "nbconvert_exporter": "python",
   "pygments_lexer": "ipython3",
   "version": "3.5.1"
  }
 },
 "nbformat": 4,
 "nbformat_minor": 0
}
