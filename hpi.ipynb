{
 "cells": [
  {
   "cell_type": "code",
   "execution_count": 1,
   "metadata": {
    "collapsed": true
   },
   "outputs": [],
   "source": [
    "#modules\n",
    "import pandas as pd\n",
    "import numpy as np\n",
    "import Quandl as q\n",
    "import pickle\n",
    "import datetime\n",
    "import matplotlib.pyplot as plt\n",
    "\n",
    "# defining style\n",
    "from matplotlib import style\n",
    "style.use(\"fivethirtyeight\")\n",
    "\n",
    "#Quandl API key\n",
    "api_key = \"ZeTUAsZV7Vz4HFa7jsFk\""
   ]
  },
  {
   "cell_type": "code",
   "execution_count": 2,
   "metadata": {
    "collapsed": false
   },
   "outputs": [],
   "source": [
    "#extracting the state abbreviations from wiki\n",
    "def state_list():\n",
    "    all_state = pd.read_html(\"https://simple.wikipedia.org/wiki/List_of_U.S._states\")\n",
    "    #print(all_state[0][0][1:])\n",
    "    return all_state[0][0][1:]\n",
    "\n",
    "#state_list()"
   ]
  },
  {
   "cell_type": "code",
   "execution_count": 4,
   "metadata": {
    "collapsed": false
   },
   "outputs": [],
   "source": [
    "#function to get data from Quandl using the API\n",
    "def get_quandl_data():\n",
    "    all_states = state_list() #storing the states\n",
    "    main_df = pd.DataFrame() #defining empty dataframe\n",
    "    \n",
    "    for each_state in all_states:\n",
    "        query = \"FMAC/HPI_\"+str(each_state)\n",
    "        df = q.get(query, authtoken = api_key)\n",
    "        \n",
    "        if main_df.empty:\n",
    "            main_df = df\n",
    "        else:\n",
    "            main_df = main_df.join(df)\n",
    "            \n",
    "    #print(main_df[[0]])\n",
    "    main_df.to_pickle(\"state_data.pickle\")\n",
    "    \n",
    "get_quandl_data()\n",
    "\n",
    "state_data_df = pd.read_pickle(\"state_data.pickle\")"
   ]
  },
  {
   "cell_type": "code",
   "execution_count": 5,
   "metadata": {
    "collapsed": false
   },
   "outputs": [],
   "source": [
    "#print(state_data_df[\"AL\"][0])\n",
    "#print(state_data_df.AL[0])\n",
    "#x =(state_data_df[\"AL\"]-state_data_df[\"AL\"][0]) / state_data_df[\"AL\"][0] * 100.0\n",
    "#print(x)"
   ]
  },
  {
   "cell_type": "code",
   "execution_count": 6,
   "metadata": {
    "collapsed": true
   },
   "outputs": [],
   "source": [
    "#function to get house price index data for entire USA\n",
    "def HPI_Benchmark():\n",
    "    df = Quandl.get(\"FMAC/HPI_USA\", authtoken=api_key)\n",
    "    df[\"United States                  not seasonally adjusted\"] = (df[\"United States                  not seasonally adjusted\"]-df[\"United States                  not seasonally adjusted\"][0]) / df[\"United States                  not seasonally adjusted\"][0] * 100.0\n",
    "    return df"
   ]
  }
 ],
 "metadata": {
  "kernelspec": {
   "display_name": "Python 3",
   "language": "python",
   "name": "python3"
  },
  "language_info": {
   "codemirror_mode": {
    "name": "ipython",
    "version": 3
   },
   "file_extension": ".py",
   "mimetype": "text/x-python",
   "name": "python",
   "nbconvert_exporter": "python",
   "pygments_lexer": "ipython3",
   "version": "3.5.1"
  }
 },
 "nbformat": 4,
 "nbformat_minor": 0
}
